{
 "cells": [
  {
   "cell_type": "markdown",
   "id": "e5bbb701",
   "metadata": {},
   "source": [
    "<h2> OCR (Optical Character Recognition) </h2>"
   ]
  },
  {
   "cell_type": "markdown",
   "id": "077d8fa7",
   "metadata": {},
   "source": [
    "Optical Character Recognition (OCR) is the process of extracting text from images or scanned documents. In Python, you can use the pytesseract library, which is a wrapper for Google's Tesseract OCR engine, to perform OCR and extract text from images.\n",
    "\n",
    "Before you start, make sure you have installed Tesseract OCR on your system. You can download it from the following link: https://github.com/tesseract-ocr/tesseract\n",
    "\n",
    "Once you have Tesseract installed, you can install the pytesseract library using pip:"
   ]
  },
  {
   "cell_type": "markdown",
   "id": "6205e938",
   "metadata": {},
   "source": [
    "Install the library if not.\n",
    "\n",
    "pip install pytesseract"
   ]
  },
  {
   "cell_type": "code",
   "execution_count": 2,
   "id": "e1710a1c",
   "metadata": {},
   "outputs": [],
   "source": [
    "# Install the library if not.\n",
    "# pip install pytesseract"
   ]
  },
  {
   "cell_type": "code",
   "execution_count": 3,
   "id": "bf63e223",
   "metadata": {},
   "outputs": [],
   "source": [
    "# Install Tesseract-OCR package "
   ]
  },
  {
   "cell_type": "code",
   "execution_count": 4,
   "id": "43074550",
   "metadata": {},
   "outputs": [
    {
     "name": "stdout",
     "output_type": "stream",
     "text": [
      "TITAN SINKS, 1500 DE\n",
      "\n",
      "Carpathia Picks Up 675 Out of 2200---Races for New\n",
      "York---Survivors Mostly Women and Children.\n",
      "\n",
      "POLICE ORDER | fF Giant Steaner Bows Dow\n",
      "DORR'S ARREST Before Help Arrives,\n",
      "lor gin ea\n",
      "Sue i Ho te Nese SITS\n",
      "Taye Fd ie, “] Mite Star Offials Ad\n",
      "“woe Lass of Li’,\n",
      "\n",
      "(retest Sea Trg in Hist\n",
      "‘OM Newtoandand Coast,\n",
      "\n"
     ]
    }
   ],
   "source": [
    "import pytesseract\n",
    "from PIL import Image\n",
    "\n",
    "# Path to the Tesseract OCR executable\n",
    "pytesseract.pytesseract.tesseract_cmd = r'C:\\Program Files\\Tesseract-OCR\\tesseract.exe'\n",
    "\n",
    "# Open the image file using PIL (Python Imaging Library)\n",
    "image = Image.open('Titanic_front_page.jpg')\n",
    "\n",
    "# Perform OCR on the image\n",
    "text = pytesseract.image_to_string(image)\n",
    "\n",
    "# Print the extracted text\n",
    "print(text)"
   ]
  },
  {
   "cell_type": "markdown",
   "id": "3caad687",
   "metadata": {},
   "source": [
    "In the code above, we first import the necessary modules: pytesseract for performing OCR and Image from PIL for opening the image file.\n",
    "\n",
    "Next, we set the path to the Tesseract OCR executable using pytesseract.pytesseract.tesseract_cmd. You may need to adjust this path based on your Tesseract installation location.\n",
    "\n",
    "Then, we open the image file using Image.open() and assign it to the image variable.\n",
    "\n",
    "After that, we call pytesseract.image_to_string() with the image as an argument to perform OCR and extract the text from the image.\n",
    "\n",
    "Finally, we print the extracted text using print(text).\n",
    "\n",
    "Remember to replace 'example_image.jpg' with the path to your actual image file.\n",
    "\n",
    "That's it! You can use this code as a starting point for extracting text from images using OCR in Python with the pytesseract library."
   ]
  },
  {
   "cell_type": "markdown",
   "id": "6807d1a4",
   "metadata": {},
   "source": [
    "**Note:** If Tesseract-OCR not installed then follow the steps below\n",
    "    \n",
    "If you don't have Tesseract OCR installed, you'll need to install it before using the `pytesseract` library. Here are the steps to install Tesseract OCR on different operating systems:\n",
    "\n",
    "**Windows:**\n",
    "\n",
    "1. Download the Tesseract installer from the following link: https://github.com/UB-Mannheim/tesseract/wiki\n",
    "\n",
    "2. Run the installer and follow the instructions to complete the installation. Make sure to select the option to add Tesseract to the system PATH during the installation process.\n",
    "\n",
    "**macOS:**\n",
    "\n",
    "1. Install Homebrew, a package manager for macOS, if you haven't already. Open Terminal and run the following command:\n",
    "\n",
    "   ```\n",
    "   /bin/bash -c \"$(curl -fsSL https://raw.githubusercontent.com/Homebrew/install/HEAD/install.sh)\"\n",
    "   ```\n",
    "\n",
    "2. Once Homebrew is installed, run the following command in Terminal to install Tesseract:\n",
    "\n",
    "   ```\n",
    "   brew install tesseract\n",
    "   ```\n",
    "\n",
    "**Linux (Ubuntu/Debian):**\n",
    "\n",
    "1. Open Terminal and run the following command to install Tesseract:\n",
    "\n",
    "   ```\n",
    "   sudo apt-get update\n",
    "   sudo apt-get install tesseract-ocr\n",
    "   ```\n",
    "\n",
    "**Linux (Fedora/CentOS):**\n",
    "\n",
    "1. Open Terminal and run the following command to install Tesseract:\n",
    "\n",
    "   ```\n",
    "   sudo dnf install tesseract\n",
    "   ```\n",
    "\n",
    "After you have installed Tesseract OCR, you can proceed with the code example I provided earlier to perform OCR using the `pytesseract` library."
   ]
  },
  {
   "cell_type": "code",
   "execution_count": null,
   "id": "35320a1c",
   "metadata": {},
   "outputs": [],
   "source": []
  }
 ],
 "metadata": {
  "kernelspec": {
   "display_name": "Python 3 (ipykernel)",
   "language": "python",
   "name": "python3"
  },
  "language_info": {
   "codemirror_mode": {
    "name": "ipython",
    "version": 3
   },
   "file_extension": ".py",
   "mimetype": "text/x-python",
   "name": "python",
   "nbconvert_exporter": "python",
   "pygments_lexer": "ipython3",
   "version": "3.9.12"
  }
 },
 "nbformat": 4,
 "nbformat_minor": 5
}
